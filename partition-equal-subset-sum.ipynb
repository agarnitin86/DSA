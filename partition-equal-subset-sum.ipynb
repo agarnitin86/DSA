{
 "cells": [
  {
   "cell_type": "markdown",
   "id": "0d269da7",
   "metadata": {},
   "source": [
    "### Partition equal subset sum\n",
    "https://practice.geeksforgeeks.org/problems/subset-sum-problem2014/1/?category#"
   ]
  },
  {
   "cell_type": "code",
   "execution_count": 17,
   "id": "76dc73bf",
   "metadata": {},
   "outputs": [],
   "source": [
    "import numpy as np\n",
    "\n",
    "class Solution:\n",
    "    \n",
    "    def isSubsetSum(self,arr, N, s):\n",
    "        dp = [[False for j in range(s+1)] for i in range(N+1)]\n",
    "        print(dp)\n",
    "        for j in range(N+1):\n",
    "            dp[j][0] = True\n",
    "        \n",
    "        for i in range(1, N+1):\n",
    "            for j in range(1, s+1):\n",
    "                if(arr[i-1]<=j):\n",
    "                    dp[i][j] = (dp[i-1][j-arr[i-1]] or dp[i-1][j])\n",
    "                else:\n",
    "                    dp[i][j] =  dp[i-1][j]\n",
    "        return dp[N][s]\n",
    "                \n",
    "    def equalPartition(self, N, arr):\n",
    "        # code here\n",
    "\n",
    "        ##Calculate the total\n",
    "        total = 0\n",
    "        for ele in arr:\n",
    "            print(ele)\n",
    "            total = total + ele\n",
    "        \n",
    "        print(total)\n",
    "\n",
    "        ## If the sum is odd equal partition subset sum is not possible\n",
    "        if(total%2!=0):\n",
    "            return 0\n",
    "\n",
    "        ## If the sum is even, use subsetsum apporach to find if it is possible to get sum = total/2\n",
    "        ## using the array elements\n",
    "        if(self.isSubsetSum(arr, N, int(total/2))):\n",
    "            return 1\n",
    "        else:\n",
    "            return 0\n",
    "    "
   ]
  },
  {
   "cell_type": "code",
   "execution_count": 19,
   "id": "ad0cb5b2",
   "metadata": {},
   "outputs": [
    {
     "name": "stdout",
     "output_type": "stream",
     "text": [
      "1\n",
      "3\n",
      "5\n",
      "9\n",
      "NO\n"
     ]
    }
   ],
   "source": [
    "N = 3\n",
    "arr = [1, 3, 5]\n",
    "\n",
    "ob = Solution()\n",
    "if (ob.equalPartition(N, arr) == 1):\n",
    "    print(\"YES\")\n",
    "else:\n",
    "    print(\"NO\")"
   ]
  },
  {
   "cell_type": "code",
   "execution_count": 4,
   "id": "38030d89",
   "metadata": {},
   "outputs": [
    {
     "data": {
      "text/plain": [
       "<function __main__.equalPartition(self, N, arr)>"
      ]
     },
     "execution_count": 4,
     "metadata": {},
     "output_type": "execute_result"
    }
   ],
   "source": [
    "equalPartition"
   ]
  }
 ],
 "metadata": {
  "kernelspec": {
   "display_name": "Python 3 (ipykernel)",
   "language": "python",
   "name": "python3"
  },
  "language_info": {
   "codemirror_mode": {
    "name": "ipython",
    "version": 3
   },
   "file_extension": ".py",
   "mimetype": "text/x-python",
   "name": "python",
   "nbconvert_exporter": "python",
   "pygments_lexer": "ipython3",
   "version": "3.7.11"
  }
 },
 "nbformat": 4,
 "nbformat_minor": 5
}
