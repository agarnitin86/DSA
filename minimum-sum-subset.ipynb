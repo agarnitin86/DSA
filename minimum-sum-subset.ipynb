{
 "cells": [
  {
   "cell_type": "markdown",
   "id": "23cbf142",
   "metadata": {},
   "source": [
    "### Minimum subset sum\n",
    "https://practice.geeksforgeeks.org/problems/minimum-sum-partition3317/1/"
   ]
  },
  {
   "cell_type": "code",
   "execution_count": 51,
   "id": "bdfe72e1",
   "metadata": {},
   "outputs": [],
   "source": [
    "#User function Template for python3\n",
    "import numpy as np\n",
    "class Solution:\n",
    "    \n",
    "    def subset_sum(self, arr, n, s):\n",
    "        dp = [[False for j in range(s+1)]for i in range(n+1)]\n",
    "        for i in range(n+1):\n",
    "            dp[i][0] = True\n",
    "        \n",
    "        for i in range(1, n+1):\n",
    "            for j in range(1, s+1):\n",
    "                #print(i, j, arr, arr[i-1])\n",
    "                if(arr[i-1]<=j):\n",
    "                    #print(dp[i-1][j-arr[i-1]])\n",
    "                    dp[i][j] = dp[i-1][j-arr[i-1]] or dp[i-1][j]\n",
    "                    #print(dp[i][j])\n",
    "                else:\n",
    "                    dp[i][j] =dp[i-1][j]\n",
    "        return dp\n",
    "    \n",
    "    def minDifference(self, arr, n):\n",
    "        min_diff = 100000\n",
    "        total = np.sum(arr)\n",
    "        dp = self.subset_sum(arr, n, total)\n",
    "        print(dp[n])\n",
    "        for i in range(0, int(total/2)+1):\n",
    "            #print(n, i)\n",
    "            if(dp[n][i]):\n",
    "                #print(\"True\",dp[n][i])\n",
    "                min_diff = np.min([min_diff, total - 2*i])\n",
    "        return min_diff\n",
    "            \n",
    "        "
   ]
  },
  {
   "cell_type": "code",
   "execution_count": 52,
   "id": "a2e2f79d",
   "metadata": {
    "scrolled": false
   },
   "outputs": [
    {
     "name": "stdout",
     "output_type": "stream",
     "text": [
      "[True, False, False, False, False, False, False, False, False, False, False, False, False, False, False, False, False, False, False, False, False, False, False, False, False, False, False, False, False, False, False, True, False, False, False, False, True, False, False, False, False, False, False, False, False, False, False, False, False, False, False, False, False, False, False, False, False, False, False, False, False, False, False, False, False, False, False, True]\n",
      "5\n"
     ]
    }
   ],
   "source": [
    "#{ \n",
    "#  Driver Code Starts\n",
    "#Initial Template for Python 3\n",
    "N = 2\n",
    "arr = [31, 36]\n",
    "ob = Solution()\n",
    "ans = ob.minDifference(arr, N)\n",
    "#ans = ob.subset_sum(arr, N, 67)\n",
    "print(ans)\n",
    "# } Driver Code Ends"
   ]
  },
  {
   "cell_type": "code",
   "execution_count": null,
   "id": "41e38f37",
   "metadata": {},
   "outputs": [],
   "source": []
  }
 ],
 "metadata": {
  "kernelspec": {
   "display_name": "Python 3 (ipykernel)",
   "language": "python",
   "name": "python3"
  },
  "language_info": {
   "codemirror_mode": {
    "name": "ipython",
    "version": 3
   },
   "file_extension": ".py",
   "mimetype": "text/x-python",
   "name": "python",
   "nbconvert_exporter": "python",
   "pygments_lexer": "ipython3",
   "version": "3.7.11"
  }
 },
 "nbformat": 4,
 "nbformat_minor": 5
}
