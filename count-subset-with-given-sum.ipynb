{
 "cells": [
  {
   "cell_type": "markdown",
   "id": "2a40749b",
   "metadata": {},
   "source": [
    "### Count the number of subset with a given sum in an array\n",
    "https://practice.geeksforgeeks.org/problems/perfect-sum-problem5633/1"
   ]
  },
  {
   "cell_type": "code",
   "execution_count": 1,
   "id": "43354ba0",
   "metadata": {},
   "outputs": [],
   "source": [
    "#User function Template for python3\n",
    "## Using Top Down DP approach\n",
    "class Solution:\n",
    "    \n",
    "    def perfectSum(self, arr, n, s):\n",
    "        dp = [[0 for j in range(s+1)] for i in range(n+1)]\n",
    "        \n",
    "        for i in range(n+1):\n",
    "            dp[i][0] = 1\n",
    "        \n",
    "        for i in range(1, n+1):\n",
    "            for j in range(0, s+1): ## This loop should run from 0 as, there might be 0 present in the array\n",
    "                if(arr[i-1]<=j):\n",
    "                    dp[i][j] = dp[i-1][j-arr[i-1]] + dp[i-1][j]\n",
    "                else:\n",
    "                    dp[i][j] = dp[i-1][j]\n",
    "        print(dp)  \n",
    "        return dp[n][s]\n",
    "                    \n",
    "                \n",
    "        "
   ]
  },
  {
   "cell_type": "code",
   "execution_count": 2,
   "id": "7ae93d6d",
   "metadata": {},
   "outputs": [
    {
     "name": "stdout",
     "output_type": "stream",
     "text": [
      "[[1, 0, 0, 0, 0, 0, 0, 0, 0, 0, 0, 0, 0, 0, 0, 0, 0, 0, 0, 0, 0, 0, 0, 0, 0, 0, 0, 0, 0, 0, 0, 0], [1, 0, 0, 0, 0, 0, 0, 0, 0, 1, 0, 0, 0, 0, 0, 0, 0, 0, 0, 0, 0, 0, 0, 0, 0, 0, 0, 0, 0, 0, 0, 0], [1, 0, 0, 0, 0, 0, 0, 1, 0, 1, 0, 0, 0, 0, 0, 0, 1, 0, 0, 0, 0, 0, 0, 0, 0, 0, 0, 0, 0, 0, 0, 0], [2, 0, 0, 0, 0, 0, 0, 2, 0, 2, 0, 0, 0, 0, 0, 0, 2, 0, 0, 0, 0, 0, 0, 0, 0, 0, 0, 0, 0, 0, 0, 0], [2, 0, 0, 2, 0, 0, 0, 2, 0, 2, 2, 0, 2, 0, 0, 0, 2, 0, 0, 2, 0, 0, 0, 0, 0, 0, 0, 0, 0, 0, 0, 0], [2, 0, 0, 2, 0, 0, 0, 2, 0, 4, 2, 0, 4, 0, 0, 0, 4, 0, 2, 4, 0, 2, 0, 0, 0, 2, 0, 0, 2, 0, 0, 0], [2, 0, 0, 2, 0, 0, 0, 2, 2, 4, 2, 2, 4, 0, 0, 2, 4, 4, 4, 4, 4, 2, 0, 0, 4, 2, 2, 4, 2, 2, 0, 0], [2, 0, 0, 2, 0, 0, 2, 2, 2, 6, 2, 2, 4, 2, 2, 6, 6, 6, 8, 4, 4, 4, 4, 4, 8, 6, 6, 6, 2, 2, 4, 2], [2, 0, 0, 2, 0, 2, 2, 2, 4, 6, 2, 4, 6, 4, 8, 8, 8, 10, 10, 6, 10, 10, 10, 12, 12, 10, 10, 10, 6, 10, 10, 8], [2, 0, 0, 2, 0, 2, 2, 4, 4, 6, 4, 4, 8, 6, 10, 12, 14, 12, 14, 12, 14, 18, 18, 20, 22, 20, 16, 20, 16, 20, 22, 20], [2, 0, 0, 2, 0, 2, 4, 4, 4, 8, 4, 6, 10, 10, 14, 18, 18, 16, 22, 18, 24, 30, 32, 32, 36, 32, 30, 38, 34, 40, 44, 40]]\n",
      "40\n"
     ]
    }
   ],
   "source": [
    "#{ \n",
    "#  Driver Code Starts\n",
    "#Initial Template for Python 3\n",
    "\n",
    "n = 10\n",
    "arr = [9, 7, 0, 3, 9, 8, 6, 5, 7, 6]\n",
    "s = 31\n",
    "\n",
    "ob = Solution()\n",
    "ans = ob.perfectSum(arr,n,s)\n",
    "print(ans)\n",
    "\n",
    "# } Driver Code Ends"
   ]
  },
  {
   "cell_type": "code",
   "execution_count": null,
   "id": "3ba90c8b",
   "metadata": {},
   "outputs": [],
   "source": []
  }
 ],
 "metadata": {
  "kernelspec": {
   "display_name": "Python 3 (ipykernel)",
   "language": "python",
   "name": "python3"
  },
  "language_info": {
   "codemirror_mode": {
    "name": "ipython",
    "version": 3
   },
   "file_extension": ".py",
   "mimetype": "text/x-python",
   "name": "python",
   "nbconvert_exporter": "python",
   "pygments_lexer": "ipython3",
   "version": "3.7.11"
  }
 },
 "nbformat": 4,
 "nbformat_minor": 5
}
