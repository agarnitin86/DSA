{
 "cells": [
  {
   "cell_type": "markdown",
   "id": "253e0c79",
   "metadata": {},
   "source": [
    "### Rod Cutting\n",
    "https://practice.geeksforgeeks.org/problems/rod-cutting0840/1"
   ]
  },
  {
   "cell_type": "code",
   "execution_count": null,
   "id": "72b810d1",
   "metadata": {},
   "outputs": [],
   "source": [
    "#User function Template for python3\n",
    "\n",
    "class Solution:\n",
    "    def cutRod(self, price, n):\n",
    "        #code here\n",
    "        print(price, n)\n",
    "        rod_length = [i for i in range(1, n+1)]\n",
    "        if(n==0):\n",
    "            return 0\n",
    "        \n",
    "        if(rod_length[n-1]<=n):\n",
    "            return max(price[n-1] + self.cutRod(price, n-rod_length[n-1]), self.cutRod(price, n-1))\n",
    "        else:\n",
    "            return self.cutRod(price, n-1)\n",
    "        \n",
    "        \n",
    "    \n",
    "#{ \n",
    "#  Driver Code Starts\n",
    "#Initial Template for Python 3\n",
    "\n",
    "def main():\n",
    "    n = 8\n",
    "    price = [1, 5, 8, 9, 10, 17, 17, 20]\n",
    "    a = price\n",
    "    ob = Solution()\n",
    "    print(ob.cutRod(a, n))\n",
    "\n",
    "main()\n",
    "# } Driver Code Ends"
   ]
  },
  {
   "cell_type": "code",
   "execution_count": null,
   "id": "b24d0b88",
   "metadata": {},
   "outputs": [],
   "source": []
  }
 ],
 "metadata": {
  "kernelspec": {
   "display_name": "Python 3 (ipykernel)",
   "language": "python",
   "name": "python3"
  },
  "language_info": {
   "codemirror_mode": {
    "name": "ipython",
    "version": 3
   },
   "file_extension": ".py",
   "mimetype": "text/x-python",
   "name": "python",
   "nbconvert_exporter": "python",
   "pygments_lexer": "ipython3",
   "version": "3.7.11"
  }
 },
 "nbformat": 4,
 "nbformat_minor": 5
}
