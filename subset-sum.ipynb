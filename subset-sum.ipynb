{
 "cells": [
  {
   "cell_type": "markdown",
   "id": "e684c0f0",
   "metadata": {},
   "source": [
    "### Subset sum problem\n",
    "https://practice.geeksforgeeks.org/problems/subset-sum-problem-1611555638/1/#"
   ]
  },
  {
   "cell_type": "code",
   "execution_count": 5,
   "id": "b4c4396e",
   "metadata": {},
   "outputs": [],
   "source": [
    "#User function Template for python3\n",
    "## Recursive solution\n",
    "class Solution:\n",
    "    def isSubsetSum(self, N, arr, s):\n",
    "        print(N, arr, s)\n",
    "        # code here \n",
    "        \n",
    "        if(s==0):\n",
    "            return True\n",
    "        elif(s>0 and N==0):\n",
    "            return False\n",
    "        if(arr[N-1]<=s):\n",
    "            return self.isSubsetSum(N-1, arr, s-arr[N-1]) or self.isSubsetSum(N-1, arr, s)\n",
    "        else:\n",
    "            return self.isSubsetSum(N-1, arr, s)"
   ]
  },
  {
   "cell_type": "code",
   "execution_count": 6,
   "id": "a7e37ad3",
   "metadata": {},
   "outputs": [
    {
     "name": "stdout",
     "output_type": "stream",
     "text": [
      "6 [3, 34, 4, 12, 5, 2] 9\n",
      "5 [3, 34, 4, 12, 5, 2] 7\n",
      "4 [3, 34, 4, 12, 5, 2] 2\n",
      "3 [3, 34, 4, 12, 5, 2] 2\n",
      "2 [3, 34, 4, 12, 5, 2] 2\n",
      "1 [3, 34, 4, 12, 5, 2] 2\n",
      "0 [3, 34, 4, 12, 5, 2] 2\n",
      "4 [3, 34, 4, 12, 5, 2] 7\n",
      "3 [3, 34, 4, 12, 5, 2] 7\n",
      "2 [3, 34, 4, 12, 5, 2] 3\n",
      "1 [3, 34, 4, 12, 5, 2] 3\n",
      "0 [3, 34, 4, 12, 5, 2] 0\n",
      "1\n"
     ]
    }
   ],
   "source": [
    "#{ \n",
    "#  Driver Code Starts\n",
    "#Initial Template for Python 3\n",
    "\n",
    "N = 6\n",
    "arr = [3, 34, 4, 12, 5, 2]\n",
    "s = 9\n",
    "ob = Solution()\n",
    "\n",
    "if(ob.isSubsetSum(N,arr,s)==True):\n",
    "    print(1)\n",
    "else :\n",
    "    print(0)\n",
    "            \n",
    "        \n",
    "\n",
    "# } Driver Code Ends"
   ]
  },
  {
   "cell_type": "code",
   "execution_count": 8,
   "id": "0b71579e",
   "metadata": {},
   "outputs": [
    {
     "name": "stdout",
     "output_type": "stream",
     "text": [
      "6 [3, 34, 4, 12, 5, 2] 9\n",
      "5 [3, 34, 4, 12, 5, 2] 7\n",
      "4 [3, 34, 4, 12, 5, 2] 2\n",
      "3 [3, 34, 4, 12, 5, 2] 2\n",
      "2 [3, 34, 4, 12, 5, 2] 2\n",
      "1 [3, 34, 4, 12, 5, 2] 2\n",
      "0 [3, 34, 4, 12, 5, 2] 2\n",
      "4 [3, 34, 4, 12, 5, 2] 7\n",
      "3 [3, 34, 4, 12, 5, 2] 7\n",
      "2 [3, 34, 4, 12, 5, 2] 3\n",
      "1 [3, 34, 4, 12, 5, 2] 3\n",
      "0 [3, 34, 4, 12, 5, 2] 0\n",
      "1\n"
     ]
    }
   ],
   "source": [
    "#User function Template for python3\n",
    "## Memoized solution\n",
    "class Solution:\n",
    "    \n",
    "    def isSubsetSum(self, N, arr, s, mem=None):\n",
    "        print(N, arr, s)\n",
    "        \n",
    "        if(mem is None):\n",
    "            mem = [[-1 for j in range(s+1)]for i in range(N+1)]\n",
    "        \n",
    "        if(s==0):\n",
    "            return True\n",
    "        elif(s>0 and N==0):\n",
    "            return False\n",
    "        \n",
    "        if(mem[N][s]!=-1):\n",
    "            return mem[N][s]\n",
    "        \n",
    "        if(arr[N-1]<=s):\n",
    "            mem[N][s] = self.isSubsetSum(N-1, arr, s-arr[N-1], mem) or self.isSubsetSum(N-1, arr, s, mem)\n",
    "        else:\n",
    "            mem[N][s] = self.isSubsetSum(N-1, arr, s, mem)\n",
    "        \n",
    "        return mem[N][s]\n",
    "\n",
    "#{ \n",
    "#  Driver Code Starts\n",
    "#Initial Template for Python 3\n",
    "\n",
    "N = 6\n",
    "arr = [3, 34, 4, 12, 5, 2]\n",
    "s = 9\n",
    "ob = Solution()\n",
    "\n",
    "if(ob.isSubsetSum(N,arr,s)==True):\n",
    "    print(1)\n",
    "else :\n",
    "    print(0)\n",
    "                    "
   ]
  },
  {
   "cell_type": "code",
   "execution_count": 12,
   "id": "31505929",
   "metadata": {},
   "outputs": [
    {
     "name": "stdout",
     "output_type": "stream",
     "text": [
      "6 [3, 34, 4, 12, 5, 2] 9\n",
      "[[True, False, False, False, False, False, False, False, False, False], [True, False, False, True, False, False, False, False, False, False], [True, False, False, True, False, False, False, False, False, False], [True, False, False, True, True, False, False, True, False, False], [True, False, False, True, True, False, False, True, False, False], [True, False, False, True, True, True, False, True, True, True], [True, False, True, True, True, True, True, True, True, True]]\n",
      "1\n"
     ]
    }
   ],
   "source": [
    "#User function Template for python3\n",
    "## Top-Down DP Solution\n",
    "\n",
    "class Solution:\n",
    "    \n",
    "    def isSubsetSum(self, N, arr, s):\n",
    "        print(N, arr, s)\n",
    "        \n",
    "        dp = [[False for j in range(s+1)]for i in range(N+1)]\n",
    "        \n",
    "        ## Case when sum=0 (first column) set it to True\n",
    "        for i in range(N+1):\n",
    "            dp[i][0] = True\n",
    "        \n",
    "        for i in range(1, N+1):\n",
    "            for j in range(1, s+1):\n",
    "                if(arr[i-1]<=j):\n",
    "                    dp[i][j] = (dp[i-1][j-arr[i-1]] or dp[i-1][j])\n",
    "                else:\n",
    "                    dp[i][j] =  dp[i-1][j]\n",
    "        print(dp)\n",
    "        return dp[N][s]\n",
    "\n",
    "#{ \n",
    "#  Driver Code Starts\n",
    "#Initial Template for Python 3\n",
    "\n",
    "N = 6\n",
    "arr = [3, 34, 4, 12, 5, 2]\n",
    "s = 9\n",
    "ob = Solution()\n",
    "\n",
    "if(ob.isSubsetSum(N,arr,s)==True):\n",
    "    print(1)\n",
    "else :\n",
    "    print(0)\n",
    "                    "
   ]
  },
  {
   "cell_type": "code",
   "execution_count": null,
   "id": "cbfb2a3d",
   "metadata": {},
   "outputs": [],
   "source": []
  }
 ],
 "metadata": {
  "kernelspec": {
   "display_name": "Python 3 (ipykernel)",
   "language": "python",
   "name": "python3"
  },
  "language_info": {
   "codemirror_mode": {
    "name": "ipython",
    "version": 3
   },
   "file_extension": ".py",
   "mimetype": "text/x-python",
   "name": "python",
   "nbconvert_exporter": "python",
   "pygments_lexer": "ipython3",
   "version": "3.7.11"
  }
 },
 "nbformat": 4,
 "nbformat_minor": 5
}
