{
 "cells": [
  {
   "cell_type": "markdown",
   "id": "44d89493",
   "metadata": {},
   "source": [
    "### Unbounded Knapsack\n",
    "https://practice.geeksforgeeks.org/problems/knapsack-with-duplicate-items4201/1/"
   ]
  },
  {
   "cell_type": "code",
   "execution_count": 3,
   "id": "dff28050",
   "metadata": {},
   "outputs": [],
   "source": [
    "## Recursive solution\n",
    "class Solution:\n",
    "    def knapSack(self, N, W, val, wt):\n",
    "        # code here\n",
    "        if(N==0 or W==0):\n",
    "            return 0\n",
    "        \n",
    "        if(wt[N-1]<=W):\n",
    "            return max(val[N-1] + self.knapSack(N, W-wt[N-1], val, wt), self.knapSack(N-1, W, val, wt))\n",
    "        else:\n",
    "            return self.knapSack(N-1, W, val, wt)\n",
    "\n",
    "#{ \n",
    "#  Driver Code Starts\n",
    "#Initial Template for Python 3\n",
    "N = 2\n",
    "W = 3\n",
    "val = [1, 1]\n",
    "wt = [2, 1]\n",
    "\n",
    "N = 4\n",
    "W = 8\n",
    "val = [1, 4, 5, 7]\n",
    "wt = [1, 3, 4, 5]\n",
    "\n",
    "ob = Solution()\n",
    "print(ob.knapSack(N, W, val, wt))\n",
    "# } Driver Code Ends        "
   ]
  },
  {
   "cell_type": "code",
   "execution_count": 10,
   "id": "59ee77f8",
   "metadata": {},
   "outputs": [],
   "source": [
    "## Top down DP solution\n",
    "class Solution:\n",
    "    def knapSack(self, N, W, val, wt):\n",
    "        \n",
    "        dp = [[0 for j in range(W+1)] for i in range(N+1)]\n",
    "        \n",
    "        for i in range(1, N+1):\n",
    "            for j in range(1, W+1):\n",
    "                if(wt[i-1]<=j):\n",
    "                    dp[i][j] = max(val[i-1]+dp[i][j-wt[i-1]], dp[i-1][j])\n",
    "                else:\n",
    "                    dp[i][j] = dp[i-1][j]\n",
    "        print(dp)\n",
    "        return dp[N][W]"
   ]
  },
  {
   "cell_type": "code",
   "execution_count": 11,
   "id": "57ab15a8",
   "metadata": {},
   "outputs": [
    {
     "name": "stdout",
     "output_type": "stream",
     "text": [
      "[[0, 0, 0, 0, 0, 0, 0, 0, 0], [0, 1, 2, 3, 4, 5, 6, 7, 8], [0, 1, 2, 4, 5, 6, 8, 9, 10], [0, 1, 2, 4, 5, 6, 8, 9, 10], [0, 1, 2, 4, 5, 7, 8, 9, 11]]\n",
      "11\n"
     ]
    }
   ],
   "source": [
    "#{ \n",
    "#  Driver Code Starts\n",
    "#Initial Template for Python 3\n",
    "N = 2\n",
    "W = 3\n",
    "val = [1, 1]\n",
    "wt = [2, 1]\n",
    "\n",
    "N = 4\n",
    "W = 8\n",
    "val = [1, 4, 5, 7]\n",
    "wt = [1, 3, 4, 5]\n",
    "\n",
    "ob = Solution()\n",
    "print(ob.knapSack(N, W, val, wt))\n",
    "# } Driver Code Ends"
   ]
  },
  {
   "cell_type": "code",
   "execution_count": null,
   "id": "ef9cd8f5",
   "metadata": {},
   "outputs": [],
   "source": []
  }
 ],
 "metadata": {
  "kernelspec": {
   "display_name": "Python 3 (ipykernel)",
   "language": "python",
   "name": "python3"
  },
  "language_info": {
   "codemirror_mode": {
    "name": "ipython",
    "version": 3
   },
   "file_extension": ".py",
   "mimetype": "text/x-python",
   "name": "python",
   "nbconvert_exporter": "python",
   "pygments_lexer": "ipython3",
   "version": "3.7.11"
  }
 },
 "nbformat": 4,
 "nbformat_minor": 5
}
